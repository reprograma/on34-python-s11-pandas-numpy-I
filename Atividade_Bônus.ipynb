{
  "nbformat": 4,
  "nbformat_minor": 0,
  "metadata": {
    "colab": {
      "provenance": [],
      "toc_visible": true,
      "authorship_tag": "ABX9TyOsYmOCtlQqWA1Aomuvwed1",
      "include_colab_link": true
    },
    "kernelspec": {
      "name": "python3",
      "display_name": "Python 3"
    },
    "language_info": {
      "name": "python"
    }
  },
  "cells": [
    {
      "cell_type": "markdown",
      "metadata": {
        "id": "view-in-github",
        "colab_type": "text"
      },
      "source": [
        "<a href=\"https://colab.research.google.com/github/Polliferraz/on34-python-s11-pandas-numpy-I/blob/main/Atividade_B%C3%B4nus.ipynb\" target=\"_parent\"><img src=\"https://colab.research.google.com/assets/colab-badge.svg\" alt=\"Open In Colab\"/></a>"
      ]
    },
    {
      "cell_type": "markdown",
      "source": [
        "###Bonus\n",
        "Com base em dados que vc coletou monte um gráfico (linhas, barra ou dispersão) que melhor represente os dados"
      ],
      "metadata": {
        "id": "4No2NTxFGYGe"
      }
    },
    {
      "cell_type": "code",
      "source": [
        "# importar o arquivo CSV que já está nessa pasta\n",
        "#delimiter=:separa por vírgula os dados\n",
        "# skip_header: exclui o cabeçalho (linha 1)\n",
        "dados= np.genfromtxt('quadro_medalhas_total.csv', delimiter=',', skip_header = 1)"
      ],
      "metadata": {
        "id": "zpZTN6-Efq_Z"
      },
      "execution_count": null,
      "outputs": []
    },
    {
      "cell_type": "markdown",
      "source": [
        "##### Fonte dos dados:\n",
        "\n",
        "Base de dados extraída do projeto \"basedosdados\"\n",
        "\n",
        "Tabela: world_olympedia_olympics.game_medal_tally\n",
        "\n",
        "Consulta: SELECT year, total FROM `basedosdados.world_olympedia_olympics.game_medal_tally`WHERE year > 1980 AND country = 'Brazil' ORDER BY year ASC;\n",
        "\n",
        "URL: https://basedosdados.org/\n",
        "\n",
        "Data de acesso: 13 de agosto de 2024\n",
        "\n",
        "Eu Olhei os dados no big query, baixei o arquivo em CSV, com as medalhas de ouro, prata e bronze, mas ao imprimi-los aqui, os dados apareciam como notação científica (no CSV não apareciam assim). Então trouxe os dados em JSON. Mas não consegui fazer o gráfico. Por fim, peguei apenas os dados dos anos e o total de medalhas e fiz o gráfico que até o momento estou apta a fazer heheheh\n"
      ],
      "metadata": {
        "id": "gs5Xr3De0pTP"
      }
    },
    {
      "cell_type": "code",
      "source": [
        "dados"
      ],
      "metadata": {
        "colab": {
          "base_uri": "https://localhost:8080/"
        },
        "id": "j34_pCVRfwym",
        "outputId": "91df8ef4-bade-4d98-e504-4e8331cac57e"
      },
      "execution_count": null,
      "outputs": [
        {
          "output_type": "execute_result",
          "data": {
            "text/plain": [
              "array([[1984.,    8.],\n",
              "       [1988.,    6.],\n",
              "       [1992.,    3.],\n",
              "       [1996.,   15.],\n",
              "       [2000.,   12.],\n",
              "       [2004.,   10.],\n",
              "       [2008.,   17.],\n",
              "       [2012.,   17.],\n",
              "       [2016.,   19.],\n",
              "       [2020.,   21.]])"
            ]
          },
          "metadata": {},
          "execution_count": 34
        }
      ]
    },
    {
      "cell_type": "code",
      "source": [
        "dados = np.transpose(dados)"
      ],
      "metadata": {
        "id": "zcFdKrPlXOms"
      },
      "execution_count": null,
      "outputs": []
    },
    {
      "cell_type": "code",
      "source": [
        "dados"
      ],
      "metadata": {
        "colab": {
          "base_uri": "https://localhost:8080/"
        },
        "id": "QH81blu_XUDP",
        "outputId": "9741e231-ec7a-4523-ac8d-ddcc6da93c1a"
      },
      "execution_count": null,
      "outputs": [
        {
          "output_type": "execute_result",
          "data": {
            "text/plain": [
              "array([[1984., 1988., 1992., 1996., 2000., 2004., 2008., 2012., 2016.,\n",
              "        2020.],\n",
              "       [   8.,    6.,    3.,   15.,   12.,   10.,   17.,   17.,   19.,\n",
              "          21.]])"
            ]
          },
          "metadata": {},
          "execution_count": 36
        }
      ]
    },
    {
      "cell_type": "code",
      "source": [
        "import numpy as np\n",
        "import matplotlib.pyplot as plt\n",
        "\n"
      ],
      "metadata": {
        "id": "u7CYZK5MGnuz"
      },
      "execution_count": null,
      "outputs": []
    },
    {
      "cell_type": "code",
      "source": [
        "ano = dados[0]\n",
        "total_medalhas = dados[1]"
      ],
      "metadata": {
        "id": "IYIoxchTXx2y"
      },
      "execution_count": null,
      "outputs": []
    },
    {
      "cell_type": "code",
      "source": [
        "plt.bar(ano, total_medalhas)"
      ],
      "metadata": {
        "colab": {
          "base_uri": "https://localhost:8080/",
          "height": 447
        },
        "id": "SUSkrOQEXfxv",
        "outputId": "0205f922-328d-41e6-9816-8a1e20a23f13"
      },
      "execution_count": null,
      "outputs": [
        {
          "output_type": "execute_result",
          "data": {
            "text/plain": [
              "<BarContainer object of 10 artists>"
            ]
          },
          "metadata": {},
          "execution_count": 42
        },
        {
          "output_type": "display_data",
          "data": {
            "text/plain": [
              "<Figure size 640x480 with 1 Axes>"
            ],
            "image/png": "[encoded data removed]"
          },
          "metadata": {}
        }
      ]
    }
  ]
}