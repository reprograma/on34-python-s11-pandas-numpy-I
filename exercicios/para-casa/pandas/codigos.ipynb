{
 "cells": [
  {
   "cell_type": "code",
   "execution_count": 5,
   "metadata": {},
   "outputs": [
    {
     "name": "stdout",
     "output_type": "stream",
     "text": [
      "Requirement already satisfied: numpy in c:\\users\\samsung e20\\appdata\\local\\programs\\python\\python312\\lib\\site-packages (2.0.1)\n"
     ]
    },
    {
     "name": "stderr",
     "output_type": "stream",
     "text": [
      "\n",
      "[notice] A new release of pip is available: 24.0 -> 24.2\n",
      "[notice] To update, run: python.exe -m pip install --upgrade pip\n"
     ]
    }
   ],
   "source": [
    "!pip install numpy\n",
    "\n"
   ]
  },
  {
   "cell_type": "code",
   "execution_count": 6,
   "metadata": {},
   "outputs": [],
   "source": [
    "import numpy as np"
   ]
  },
  {
   "cell_type": "code",
   "execution_count": 7,
   "metadata": {},
   "outputs": [
    {
     "name": "stdout",
     "output_type": "stream",
     "text": [
      "Requirement already satisfied: matplotlib in c:\\users\\samsung e20\\appdata\\local\\programs\\python\\python312\\lib\\site-packages (3.9.1.post1)Note: you may need to restart the kernel to use updated packages.\n"
     ]
    },
    {
     "name": "stderr",
     "output_type": "stream",
     "text": [
      "\n",
      "[notice] A new release of pip is available: 24.0 -> 24.2\n",
      "[notice] To update, run: python.exe -m pip install --upgrade pip\n"
     ]
    },
    {
     "name": "stdout",
     "output_type": "stream",
     "text": [
      "\n",
      "Requirement already satisfied: contourpy>=1.0.1 in c:\\users\\samsung e20\\appdata\\local\\programs\\python\\python312\\lib\\site-packages (from matplotlib) (1.2.1)\n",
      "Requirement already satisfied: cycler>=0.10 in c:\\users\\samsung e20\\appdata\\local\\programs\\python\\python312\\lib\\site-packages (from matplotlib) (0.12.1)\n",
      "Requirement already satisfied: fonttools>=4.22.0 in c:\\users\\samsung e20\\appdata\\local\\programs\\python\\python312\\lib\\site-packages (from matplotlib) (4.53.1)\n",
      "Requirement already satisfied: kiwisolver>=1.3.1 in c:\\users\\samsung e20\\appdata\\local\\programs\\python\\python312\\lib\\site-packages (from matplotlib) (1.4.5)\n",
      "Requirement already satisfied: numpy>=1.23 in c:\\users\\samsung e20\\appdata\\local\\programs\\python\\python312\\lib\\site-packages (from matplotlib) (2.0.1)\n",
      "Requirement already satisfied: packaging>=20.0 in c:\\users\\samsung e20\\appdata\\roaming\\python\\python312\\site-packages (from matplotlib) (24.1)\n",
      "Requirement already satisfied: pillow>=8 in c:\\users\\samsung e20\\appdata\\local\\programs\\python\\python312\\lib\\site-packages (from matplotlib) (10.4.0)\n",
      "Requirement already satisfied: pyparsing>=2.3.1 in c:\\users\\samsung e20\\appdata\\local\\programs\\python\\python312\\lib\\site-packages (from matplotlib) (3.1.2)\n",
      "Requirement already satisfied: python-dateutil>=2.7 in c:\\users\\samsung e20\\appdata\\roaming\\python\\python312\\site-packages (from matplotlib) (2.9.0.post0)\n",
      "Requirement already satisfied: six>=1.5 in c:\\users\\samsung e20\\appdata\\roaming\\python\\python312\\site-packages (from python-dateutil>=2.7->matplotlib) (1.16.0)\n"
     ]
    }
   ],
   "source": [
    "pip install matplotlib"
   ]
  },
  {
   "cell_type": "code",
   "execution_count": 8,
   "metadata": {},
   "outputs": [],
   "source": [
    "import matplotlib.pyplot as plt"
   ]
  },
  {
   "cell_type": "code",
   "execution_count": 9,
   "metadata": {},
   "outputs": [],
   "source": [
    "#análise numpy Estado SP\n",
    "dadosSP = np.genfromtxt('temperatura_SP.csv', delimiter = ',', skip_header = 1)"
   ]
  },
  {
   "cell_type": "code",
   "execution_count": 10,
   "metadata": {},
   "outputs": [
    {
     "name": "stdout",
     "output_type": "stream",
     "text": [
      "[[ 0.         19.68040863]\n",
      " [ 1.         19.10337889]\n",
      " [ 2.         18.6083881 ]\n",
      " [ 3.         18.18991354]\n",
      " [ 4.         17.76949029]\n",
      " [ 5.         17.40033617]\n",
      " [ 6.         17.08057864]\n",
      " [ 7.         16.7795065 ]\n",
      " [ 8.         16.53288279]\n",
      " [ 9.         16.42295192]\n",
      " [10.         17.16032385]\n",
      " [11.         18.96651525]\n",
      " [12.         21.06089889]\n",
      " [13.         22.9159426 ]\n",
      " [14.         24.40505862]\n",
      " [15.         25.55196786]\n",
      " [16.         26.30613657]\n",
      " [17.         26.68561064]\n",
      " [18.         26.57252676]\n",
      " [19.         25.98904015]\n",
      " [20.         24.80090023]\n",
      " [21.         22.92689564]\n",
      " [22.         21.3511783 ]\n",
      " [23.         20.3653378 ]]\n"
     ]
    }
   ],
   "source": [
    "#Primeira coluna é hora, segunda é temperatura\n",
    "print(dadosSP)"
   ]
  },
  {
   "cell_type": "code",
   "execution_count": 11,
   "metadata": {},
   "outputs": [],
   "source": [
    "dadosSP = np.transpose(dadosSP)\n"
   ]
  },
  {
   "cell_type": "code",
   "execution_count": 12,
   "metadata": {},
   "outputs": [
    {
     "name": "stdout",
     "output_type": "stream",
     "text": [
      "[[ 0.          1.          2.          3.          4.          5.\n",
      "   6.          7.          8.          9.         10.         11.\n",
      "  12.         13.         14.         15.         16.         17.\n",
      "  18.         19.         20.         21.         22.         23.        ]\n",
      " [19.68040863 19.10337889 18.6083881  18.18991354 17.76949029 17.40033617\n",
      "  17.08057864 16.7795065  16.53288279 16.42295192 17.16032385 18.96651525\n",
      "  21.06089889 22.9159426  24.40505862 25.55196786 26.30613657 26.68561064\n",
      "  26.57252676 25.98904015 24.80090023 22.92689564 21.3511783  20.3653378 ]]\n"
     ]
    }
   ],
   "source": [
    "print (dadosSP)"
   ]
  },
  {
   "cell_type": "code",
   "execution_count": 16,
   "metadata": {},
   "outputs": [
    {
     "name": "stdout",
     "output_type": "stream",
     "text": [
      "[ 0.  1.  2.  3.  4.  5.  6.  7.  8.  9. 10. 11. 12. 13. 14. 15. 16. 17.\n",
      " 18. 19. 20. 21. 22. 23.]\n"
     ]
    }
   ],
   "source": [
    "horaSP = dadosSP[0]\n",
    "print (horaSP)"
   ]
  },
  {
   "cell_type": "code",
   "execution_count": 17,
   "metadata": {},
   "outputs": [
    {
     "name": "stdout",
     "output_type": "stream",
     "text": [
      "[19.68040863 19.10337889 18.6083881  18.18991354 17.76949029 17.40033617\n",
      " 17.08057864 16.7795065  16.53288279 16.42295192 17.16032385 18.96651525\n",
      " 21.06089889 22.9159426  24.40505862 25.55196786 26.30613657 26.68561064\n",
      " 26.57252676 25.98904015 24.80090023 22.92689564 21.3511783  20.3653378 ]\n"
     ]
    }
   ],
   "source": [
    "temperaturaSP = dadosSP[1]\n",
    "print(temperaturaSP)"
   ]
  },
  {
   "cell_type": "code",
   "execution_count": 25,
   "metadata": {},
   "outputs": [
    {
     "name": "stdout",
     "output_type": "stream",
     "text": [
      "essa é a média da amostra: 20.942757025875597\n",
      "essa é a mediana da amostra: 20.022873216463445\n",
      "essa é o desvio padrão da amostra: 3.5726229054553307\n",
      "esse é o 1° quartil da amostra: 17.677201758827216\n",
      "esse é o 2° quartil da amostra: 20.022873216463445\n",
      "esse é o 3° quartil da amostra: 24.5040190183804\n",
      "esse é o 4° quartil da amostra: 26.685610640870618\n"
     ]
    }
   ],
   "source": [
    "#estatiscas descritiva \n",
    "\n",
    "print ('essa é a média da amostra:', np.mean (temperaturaSP))\n",
    "print ('essa é a mediana da amostra:', np.median (temperaturaSP))\n",
    "print ('essa é o desvio padrão da amostra:', np.std (temperaturaSP))\n",
    "print ('esse é o 1° quartil da amostra:', np.quantile(temperaturaSP,0.25))\n",
    "print ('esse é o 2° quartil da amostra:', np.quantile(temperaturaSP,0.50))\n",
    "print ('esse é o 3° quartil da amostra:', np.quantile(temperaturaSP,0.75))\n",
    "print ('esse é o 4° quartil da amostra:', np.quantile(temperaturaSP,1))"
   ]
  },
  {
   "cell_type": "code",
   "execution_count": 26,
   "metadata": {},
   "outputs": [
    {
     "data": {
      "text/plain": [
       "{'whiskers': [<matplotlib.lines.Line2D at 0x1e879ece210>,\n",
       "  <matplotlib.lines.Line2D at 0x1e879ecd8b0>],\n",
       " 'caps': [<matplotlib.lines.Line2D at 0x1e878fcc1d0>,\n",
       "  <matplotlib.lines.Line2D at 0x1e879cb63c0>],\n",
       " 'boxes': [<matplotlib.lines.Line2D at 0x1e879ecd610>],\n",
       " 'medians': [<matplotlib.lines.Line2D at 0x1e879ebaa50>],\n",
       " 'fliers': [<matplotlib.lines.Line2D at 0x1e879eba6c0>],\n",
       " 'means': []}"
      ]
     },
     "execution_count": 26,
     "metadata": {},
     "output_type": "execute_result"
    },
    {
     "data": {
      "image/png": "[encoded data removed]",
      "text/plain": [
       "<Figure size 640x480 with 1 Axes>"
      ]
     },
     "metadata": {},
     "output_type": "display_data"
    }
   ],
   "source": [
    "plt.boxplot(temperaturaSP)"
   ]
  },
  {
   "cell_type": "code",
   "execution_count": 34,
   "metadata": {},
   "outputs": [
    {
     "data": {
      "text/plain": [
       "Text(0.5, 0, 'horas')"
      ]
     },
     "execution_count": 34,
     "metadata": {},
     "output_type": "execute_result"
    },
    {
     "data": {
      "image/png": "[encoded data removed]",
      "text/plain": [
       "<Figure size 640x480 with 1 Axes>"
      ]
     },
     "metadata": {},
     "output_type": "display_data"
    }
   ],
   "source": [
    "#bônus\n",
    "\n",
    "plt.plot(temperaturaSP, marker = '*', ms = 20) \n",
    "plt.ylabel(\"temperatura\")\n",
    "plt.xlabel (\"horas\")"
   ]
  }
 ],
 "metadata": {
  "kernelspec": {
   "display_name": "Python 3",
   "language": "python",
   "name": "python3"
  },
  "language_info": {
   "codemirror_mode": {
    "name": "ipython",
    "version": 3
   },
   "file_extension": ".py",
   "mimetype": "text/x-python",
   "name": "python",
   "nbconvert_exporter": "python",
   "pygments_lexer": "ipython3",
   "version": "3.12.3"
  }
 },
 "nbformat": 4,
 "nbformat_minor": 2
}
