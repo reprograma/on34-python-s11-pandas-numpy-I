{
  "nbformat": 4,
  "nbformat_minor": 0,
  "metadata": {
    "colab": {
      "provenance": [],
      "toc_visible": true,
      "authorship_tag": "ABX9TyODANGF+tRabPUL0kaJqMU8",
      "include_colab_link": true
    },
    "kernelspec": {
      "name": "python3",
      "display_name": "Python 3"
    },
    "language_info": {
      "name": "python"
    }
  },
  "cells": [
    {
      "cell_type": "markdown",
      "metadata": {
        "id": "view-in-github",
        "colab_type": "text"
      },
      "source": [
        "<a href=\"https://colab.research.google.com/github/Polliferraz/on34-python-s11-pandas-numpy-I/blob/main/(S11)_Polli.ipynb\" target=\"_parent\"><img src=\"https://colab.research.google.com/assets/colab-badge.svg\" alt=\"Open In Colab\"/></a>"
      ]
    },
    {
      "cell_type": "markdown",
      "source": [
        "###(S11) Atividade semanal\n",
        "####Básico\n",
        "Com os dados de temperatura do seu estado (no meu caso Bahia) montar um relatório contendo a estatística descritiva e um gráfico de boxplot, entregar o Colab\n"
      ],
      "metadata": {
        "id": "R6iOlnrk2YCE"
      }
    },
    {
      "cell_type": "code",
      "execution_count": null,
      "metadata": {
        "id": "zoxWTFa-2WCw"
      },
      "outputs": [],
      "source": [
        "import numpy as np\n",
        "import matplotlib.pyplot as plt"
      ]
    },
    {
      "cell_type": "code",
      "source": [
        "# importar o arquivo CSV que já está nessa pasta\n",
        "#delimiter=:separa por vírgula os dados\n",
        "# skip_header: exclui o cabeçalho (linha 1)\n",
        "data_BA = np.genfromtxt('temperatura_BA.csv', delimiter=',', skip_header = 1)"
      ],
      "metadata": {
        "id": "VzQQ1ztE4MaI"
      },
      "execution_count": null,
      "outputs": []
    },
    {
      "cell_type": "code",
      "source": [
        "data_BA = np.transpose(data_BA)"
      ],
      "metadata": {
        "id": "x5qpojsyKEJ9"
      },
      "execution_count": null,
      "outputs": []
    },
    {
      "cell_type": "code",
      "source": [
        "data_BA"
      ],
      "metadata": {
        "colab": {
          "base_uri": "https://localhost:8080/"
        },
        "id": "lNJ1Yfho5cjP",
        "outputId": "194bf3e2-36aa-4415-f085-bf98e2e8b515"
      },
      "execution_count": null,
      "outputs": [
        {
          "output_type": "execute_result",
          "data": {
            "text/plain": [
              "array([[ 0.        ,  1.        ,  2.        ,  3.        ,  4.        ,\n",
              "         5.        ,  6.        ,  7.        ,  8.        ,  9.        ,\n",
              "        10.        , 11.        , 12.        , 13.        , 14.        ,\n",
              "        15.        , 16.        , 17.        , 18.        , 19.        ,\n",
              "        20.        , 21.        , 22.        , 23.        ],\n",
              "       [23.15633128, 22.68733653, 22.27062221, 21.89861128, 21.55372853,\n",
              "        21.24978008, 20.99430114, 20.77243663, 20.57317961, 20.67524301,\n",
              "        21.90049307, 23.62576055, 25.20734919, 26.52938532, 27.61136704,\n",
              "        28.42491518, 28.96679113, 29.18055438, 29.04953393, 28.46576182,\n",
              "        27.30461371, 25.67628817, 24.52042077, 23.75228919]])"
            ]
          },
          "metadata": {},
          "execution_count": 17
        }
      ]
    },
    {
      "cell_type": "code",
      "source": [
        "#Variáveis\n",
        "\n",
        "HORA = data_BA[0]\n",
        "TEMPERATURA = data_BA[1]"
      ],
      "metadata": {
        "id": "Lqjdz9F-5hw3"
      },
      "execution_count": null,
      "outputs": []
    },
    {
      "cell_type": "code",
      "source": [
        "# medidas descritivas numpy\n",
        "\n",
        "print(\"Mínimo:\", np.min(TEMPERATURA))\n",
        "print(\"Primeiro Quartil:\", np.quantile(TEMPERATURA,0.25))\n",
        "print(\"Média:\", np.mean(TEMPERATURA))\n",
        "print(\"Mediana (Q2):\", np.median(TEMPERATURA))\n",
        "print(\"Terceiro Quartil:\", np.quantile(TEMPERATURA,0.75))\n",
        "print(\"Desvio Padrão:\", np.std(TEMPERATURA))\n",
        "print(\"Máximo:\", np.max(TEMPERATURA))"
      ],
      "metadata": {
        "colab": {
          "base_uri": "https://localhost:8080/"
        },
        "id": "Kh7NUM8t6N1N",
        "outputId": "24851ad9-dc38-44ba-f46c-a853f5d3593a"
      },
      "execution_count": null,
      "outputs": [
        {
          "output_type": "stream",
          "name": "stdout",
          "text": [
            "Mínimo: 20.573179611650485\n",
            "Primeiro Quartil: 21.812390596532715\n",
            "Média: 24.418628906303283\n",
            "Mediana (Q2): 23.689024868071705\n",
            "Terceiro Quartil: 27.38130204404283\n",
            "Desvio Padrão: 3.010175774163802\n",
            "Máximo: 29.180554375831704\n"
          ]
        }
      ]
    },
    {
      "cell_type": "code",
      "source": [
        "fig, ax = plt.subplots()\n",
        "box = plt.boxplot(TEMPERATURA, patch_artist=True)\n",
        "\n",
        "# Customizando as cores\n",
        "colors = ['#335BFF']\n",
        "for patch, color in zip(box['boxes'], colors):\n",
        "    patch.set_facecolor(color)\n",
        "    patch.set_edgecolor('black')\n",
        "# Customizando outros aspectos (opcional)\n",
        "ax.set_title('Variação da temperatura em °C')\n",
        "ax.set_xlabel('Bahia')\n",
        "ax.set_ylabel('temperatura °C')\n",
        "\n",
        "plt.show()\n"
      ],
      "metadata": {
        "colab": {
          "base_uri": "https://localhost:8080/",
          "height": 472
        },
        "id": "YjaDIabP7V-p",
        "outputId": "9efb7b66-7632-4efc-eab1-7af9bfb87d1f"
      },
      "execution_count": null,
      "outputs": [
        {
          "output_type": "display_data",
          "data": {
            "text/plain": [
              "<Figure size 640x480 with 1 Axes>"
            ],
            "image/png": "[encoded data removed]"
          },
          "metadata": {}
        }
      ]
    },
    {
      "cell_type": "markdown",
      "source": [
        "###Bonus\n",
        "Com base em dados que vc coletou monte um gráfico (linhas, barra ou dispersão) que melhor represente os dados"
      ],
      "metadata": {
        "id": "4No2NTxFGYGe"
      }
    },
    {
      "cell_type": "code",
      "source": [
        "# importar o arquivo CSV que já está nessa pasta\n",
        "#delimiter=:separa por vírgula os dados\n",
        "# skip_header: exclui o cabeçalho (linha 1)\n",
        "dados= np.genfromtxt('quadro_medalhas_total.csv', delimiter=',', skip_header = 1)"
      ],
      "metadata": {
        "id": "zpZTN6-Efq_Z"
      },
      "execution_count": null,
      "outputs": []
    },
    {
      "cell_type": "markdown",
      "source": [
        "##### Fonte dos dados:\n",
        "\n",
        "Base de dados extraída do projeto \"basedosdados\"\n",
        "\n",
        "Tabela: world_olympedia_olympics.game_medal_tally\n",
        "\n",
        "Consulta: SELECT year, total FROM `basedosdados.world_olympedia_olympics.game_medal_tally`WHERE year > 1980 AND country = 'Brazil' ORDER BY year ASC;\n",
        "\n",
        "URL: https://basedosdados.org/\n",
        "\n",
        "Data de acesso: 13 de agosto de 2024\n",
        "\n",
        "Eu Olhei os dados no big query, baixei o arquivo em CSV, com as medalhas de ouro, prata e bronze, mas ao imprimi-los aqui, os dados apareciam como notação científica (no CSV não apareciam assim). Então trouxe os dados em JSON. Mas não consegui fazer o gráfico. Por fim, peguei apenas os dados dos anos e o total de medalhas e fiz o gráfico que até o momento estou apta a fazer heheheh\n"
      ],
      "metadata": {
        "id": "gs5Xr3De0pTP"
      }
    },
    {
      "cell_type": "code",
      "source": [
        "dados"
      ],
      "metadata": {
        "colab": {
          "base_uri": "https://localhost:8080/"
        },
        "id": "j34_pCVRfwym",
        "outputId": "91df8ef4-bade-4d98-e504-4e8331cac57e"
      },
      "execution_count": null,
      "outputs": [
        {
          "output_type": "execute_result",
          "data": {
            "text/plain": [
              "array([[1984.,    8.],\n",
              "       [1988.,    6.],\n",
              "       [1992.,    3.],\n",
              "       [1996.,   15.],\n",
              "       [2000.,   12.],\n",
              "       [2004.,   10.],\n",
              "       [2008.,   17.],\n",
              "       [2012.,   17.],\n",
              "       [2016.,   19.],\n",
              "       [2020.,   21.]])"
            ]
          },
          "metadata": {},
          "execution_count": 34
        }
      ]
    },
    {
      "cell_type": "code",
      "source": [
        "dados = np.transpose(dados)"
      ],
      "metadata": {
        "id": "zcFdKrPlXOms"
      },
      "execution_count": null,
      "outputs": []
    },
    {
      "cell_type": "code",
      "source": [
        "dados"
      ],
      "metadata": {
        "colab": {
          "base_uri": "https://localhost:8080/"
        },
        "id": "QH81blu_XUDP",
        "outputId": "9741e231-ec7a-4523-ac8d-ddcc6da93c1a"
      },
      "execution_count": null,
      "outputs": [
        {
          "output_type": "execute_result",
          "data": {
            "text/plain": [
              "array([[1984., 1988., 1992., 1996., 2000., 2004., 2008., 2012., 2016.,\n",
              "        2020.],\n",
              "       [   8.,    6.,    3.,   15.,   12.,   10.,   17.,   17.,   19.,\n",
              "          21.]])"
            ]
          },
          "metadata": {},
          "execution_count": 36
        }
      ]
    },
    {
      "cell_type": "code",
      "source": [
        "import numpy as np\n",
        "import matplotlib.pyplot as plt\n",
        "\n"
      ],
      "metadata": {
        "id": "u7CYZK5MGnuz"
      },
      "execution_count": null,
      "outputs": []
    },
    {
      "cell_type": "code",
      "source": [
        "ano = dados[0]\n",
        "total_medalhas = dados[1]"
      ],
      "metadata": {
        "id": "IYIoxchTXx2y"
      },
      "execution_count": null,
      "outputs": []
    },
    {
      "cell_type": "code",
      "source": [
        "plt.bar(ano, total_medalhas)"
      ],
      "metadata": {
        "colab": {
          "base_uri": "https://localhost:8080/",
          "height": 447
        },
        "id": "SUSkrOQEXfxv",
        "outputId": "0205f922-328d-41e6-9816-8a1e20a23f13"
      },
      "execution_count": null,
      "outputs": [
        {
          "output_type": "execute_result",
          "data": {
            "text/plain": [
              "<BarContainer object of 10 artists>"
            ]
          },
          "metadata": {},
          "execution_count": 42
        },
        {
          "output_type": "display_data",
          "data": {
            "text/plain": [
              "<Figure size 640x480 with 1 Axes>"
            ],
            "image/png": "[encoded data removed]"
          },
          "metadata": {}
        }
      ]
    }
  ]
}